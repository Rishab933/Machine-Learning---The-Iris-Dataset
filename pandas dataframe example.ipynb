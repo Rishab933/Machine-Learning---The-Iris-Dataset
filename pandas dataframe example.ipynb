{
 "cells": [
  {
   "cell_type": "code",
   "execution_count": 14,
   "id": "9af59b38-87d2-4443-a0c2-bfde93723af6",
   "metadata": {},
   "outputs": [],
   "source": [
    "import pandas as pd\n",
    "\n",
    "# Creating a simple DataFrame\n",
    "data = {\n",
    "    'A': [1, 2, 3],\n",
    "    'B': [4, 5, 6],\n",
    "    'C': [7, 8, 9],\n",
    "    'D': [11,12,13]\n",
    "}"
   ]
  },
  {
   "cell_type": "code",
   "execution_count": 15,
   "id": "8a38ff8a-7052-462e-891d-4d79f921e68b",
   "metadata": {},
   "outputs": [],
   "source": [
    "df = pd.DataFrame(data)"
   ]
  },
  {
   "cell_type": "code",
   "execution_count": 16,
   "id": "2824376c-4eea-44f5-8819-e1327b540830",
   "metadata": {},
   "outputs": [
    {
     "name": "stdout",
     "output_type": "stream",
     "text": [
      "   A  B  C   D\n",
      "0  1  4  7  11\n",
      "1  2  5  8  12\n",
      "2  3  6  9  13\n"
     ]
    }
   ],
   "source": [
    "# Displaying the DataFrame\n",
    "print(df)"
   ]
  },
  {
   "cell_type": "code",
   "execution_count": 17,
   "id": "4f1cc54e-ca82-4de6-979d-5acb54033eca",
   "metadata": {},
   "outputs": [
    {
     "name": "stdout",
     "output_type": "stream",
     "text": [
      "Row labels (index): RangeIndex(start=0, stop=3, step=1)\n",
      "Column labels: Index(['A', 'B', 'C', 'D'], dtype='object')\n"
     ]
    }
   ],
   "source": [
    "# Displaying the axes\n",
    "print(\"Row labels (index):\", df.axes[0])\n",
    "print(\"Column labels:\", df.axes[1])"
   ]
  },
  {
   "cell_type": "code",
   "execution_count": 18,
   "id": "7bc76004-4e4f-4f50-9727-9bd5db82408b",
   "metadata": {},
   "outputs": [],
   "source": [
    "# To calculates the number of rows in the DataFrame, which is the total number of data points.\n",
    "data_count = len(df.axes[0])"
   ]
  },
  {
   "cell_type": "code",
   "execution_count": 19,
   "id": "aac0fae1-deb3-47f9-8709-df4382bcba8e",
   "metadata": {},
   "outputs": [
    {
     "name": "stdout",
     "output_type": "stream",
     "text": [
      "3\n"
     ]
    }
   ],
   "source": [
    "print(data_count)"
   ]
  },
  {
   "cell_type": "code",
   "execution_count": 20,
   "id": "5ac7a9cd-1acf-4901-b5b9-b9a6405a5f25",
   "metadata": {},
   "outputs": [
    {
     "name": "stdout",
     "output_type": "stream",
     "text": [
      "RangeIndex(start=0, stop=3, step=1)\n"
     ]
    }
   ],
   "source": [
    "print(df.axes[0])"
   ]
  },
  {
   "cell_type": "code",
   "execution_count": 21,
   "id": "ce4f55bf-423d-4a5f-9430-e88b479bd108",
   "metadata": {},
   "outputs": [
    {
     "name": "stdout",
     "output_type": "stream",
     "text": [
      "Index(['A', 'B', 'C', 'D'], dtype='object')\n"
     ]
    }
   ],
   "source": [
    "print(df.axes[1])"
   ]
  },
  {
   "cell_type": "code",
   "execution_count": 22,
   "id": "66036705-859d-42c7-b468-265e954b78c5",
   "metadata": {},
   "outputs": [],
   "source": [
    "data_col = len(df.axes[1])"
   ]
  },
  {
   "cell_type": "code",
   "execution_count": 24,
   "id": "b0031f3e-4523-4ab9-9114-40436571cce4",
   "metadata": {},
   "outputs": [
    {
     "name": "stdout",
     "output_type": "stream",
     "text": [
      "4\n"
     ]
    }
   ],
   "source": [
    "print(data_col)"
   ]
  },
  {
   "cell_type": "code",
   "execution_count": 31,
   "id": "d6b8851e-65e0-48dc-b1f9-6ef22ac17411",
   "metadata": {},
   "outputs": [],
   "source": [
    "shape = df.shape"
   ]
  },
  {
   "cell_type": "code",
   "execution_count": 32,
   "id": "7b93863e-967a-48c2-bbc0-50c3dd69d505",
   "metadata": {},
   "outputs": [
    {
     "name": "stdout",
     "output_type": "stream",
     "text": [
      "Number of rows & column:  (3, 4)\n"
     ]
    }
   ],
   "source": [
    "print(\"Number of rows & column: \",shape)"
   ]
  },
  {
   "cell_type": "code",
   "execution_count": 29,
   "id": "e4406988-0f37-406e-a26f-eb6a536827d9",
   "metadata": {},
   "outputs": [
    {
     "name": "stdout",
     "output_type": "stream",
     "text": [
      "Number of columns:  4\n"
     ]
    }
   ],
   "source": [
    "c = len(df.columns)\n",
    "print(\"Number of columns: \",c)"
   ]
  },
  {
   "cell_type": "code",
   "execution_count": 34,
   "id": "80c61b21-0dc5-43c9-9104-55f7ee07eaf8",
   "metadata": {},
   "outputs": [
    {
     "name": "stdout",
     "output_type": "stream",
     "text": [
      "Number of rows:  3\n"
     ]
    }
   ],
   "source": [
    "r = len(df)\n",
    "print(\"Number of rows: \",r)"
   ]
  },
  {
   "cell_type": "code",
   "execution_count": null,
   "id": "cc0ca3ae-c8c1-4c19-b8da-0492b3abbc62",
   "metadata": {},
   "outputs": [],
   "source": []
  }
 ],
 "metadata": {
  "kernelspec": {
   "display_name": "Python 3 (ipykernel)",
   "language": "python",
   "name": "python3"
  },
  "language_info": {
   "codemirror_mode": {
    "name": "ipython",
    "version": 3
   },
   "file_extension": ".py",
   "mimetype": "text/x-python",
   "name": "python",
   "nbconvert_exporter": "python",
   "pygments_lexer": "ipython3",
   "version": "3.12.3"
  }
 },
 "nbformat": 4,
 "nbformat_minor": 5
}
